{
 "cells": [
  {
   "cell_type": "code",
   "execution_count": 11,
   "metadata": {},
   "outputs": [
    {
     "name": "stdout",
     "output_type": "stream",
     "text": [
      "Current Working Directory: C:\\Users\\eliza\\FINTECH\\HomeWork\\Assignment_2\\python-homework4\\python-homework\\PyBank\n",
      "['Date', 'Profit/Losses']\n",
      "['Jan-2010', '867884']\n",
      "867884\n",
      "86\n",
      "38382578\n",
      "[116771, -662642, -391430, 379920, 212354, 510239, -428211, -821271, 693918, 416278, -974163, 860159, -1115009, 1033048, 95318, -308093, 99052, -521393, 605450, 231727, -65187, -702716, 177975, -1065544, 1926159, -917805, 898730, -334262, -246499, -64055, -1529236, 1497596, 304914, -635801, 398319, -183161, -37864, -253689, 403655, 94168, 306877, -83000, 210462, -2196167, 1465222, -956983, 1838447, -468003, -64602, 206242, -242155, -449079, 315198, 241099, 111540, 365942, -219310, -368665, 409837, 151210, -110244, -341938, -1212159, 683246, -70825, 335594, 417334, -272194, -236462, 657432, -211262, -128237, -1750387, 925441, 932089, -311434, 267252, -1876758, 1733696, 198551, -665765, 693229, -734926, 77242, 532869]\n",
      "-196785\n",
      "-2315.12\n"
     ]
    }
   ],
   "source": [
    "from pathlib import Path\n",
    "import csv\n",
    "\n",
    "# Check the current directory where the Python program is executing from\n",
    "print(f\"Current Working Directory: {Path.cwd()}\")\n",
    "\n",
    "# Set the input file path \n",
    "csvpath = Path(\"Resources/budget_data.csv\")\n",
    "\n",
    "profit_loss_list = []\n",
    "\n",
    "# Open the csv file as an object\n",
    "with open(csvpath, \"r\") as csvfile:\n",
    "\n",
    "    csvreader = csv.reader(csvfile, delimiter=\",\")\n",
    "    csv_header = next(csvreader)\n",
    "    prev_row = next(csvreader)\n",
    "    \n",
    "    # Print the header\n",
    "    print(csv_header)\n",
    "\n",
    "    print(prev_row)\n",
    "    \n",
    "   #Initialize variables\n",
    "\n",
    "    Total_num_months=1\n",
    "    prev_value=int(prev_row[1])\n",
    "    profit_loss_list.append(prev_value)\n",
    "    \n",
    "    print(prev_value)\n",
    "    \n",
    "    change_list =[]   \n",
    "    \n",
    "   # a=0    \n",
    "    # Read each row of data after the header\n",
    "    for row in csvreader:\n",
    "        # Print the row\n",
    "        #print(row)\n",
    "        \n",
    "     #The total number of months included in the dataset.  \n",
    "       \n",
    "        Total_num_months +=1    \n",
    "        month = row[0]\n",
    "        Profit_Loss = int(row[1])\n",
    "        profit_loss_list.append(Profit_Loss)\n",
    "        changes= Profit_Loss-prev_value\n",
    "        change_list.append(changes)\n",
    "        prev_value= Profit_Loss\n",
    "        \n",
    "x=(sum(profit_loss_list)) \n",
    "c=(sum(change_list)) \n",
    "a=(round(c/((Total_num_months)-1),2))\n",
    "\n",
    "#   \n",
    "#    \n",
    "#     #The changes in Profit/Losses \n",
    "#        # change=({dictionary [Profit_Loss]}-{dictionary [Profit_Loss][prev_row]})\n",
    "        \n",
    "\n",
    "    \n",
    "print(Total_num_months)  \n",
    "#print(profit_loss_list)\n",
    "print(x)\n",
    "print(change_list)\n",
    "print(c)\n",
    "print(a)\n",
    "\n",
    "# print(line_num)  \n",
    "#print(x)    \n",
    "# print(change) \n",
    "\n",
    "    #The average of the changes in Profit/Losses over the entire period\n",
    "    \n",
    " "
   ]
  },
  {
   "cell_type": "code",
   "execution_count": null,
   "metadata": {},
   "outputs": [],
   "source": []
  },
  {
   "cell_type": "code",
   "execution_count": null,
   "metadata": {},
   "outputs": [],
   "source": []
  },
  {
   "cell_type": "code",
   "execution_count": null,
   "metadata": {},
   "outputs": [],
   "source": []
  }
 ],
 "metadata": {
  "kernelspec": {
   "display_name": "Python 3",
   "language": "python",
   "name": "python3"
  },
  "language_info": {
   "codemirror_mode": {
    "name": "ipython",
    "version": 3
   },
   "file_extension": ".py",
   "mimetype": "text/x-python",
   "name": "python",
   "nbconvert_exporter": "python",
   "pygments_lexer": "ipython3",
   "version": "3.7.6"
  }
 },
 "nbformat": 4,
 "nbformat_minor": 4
}
