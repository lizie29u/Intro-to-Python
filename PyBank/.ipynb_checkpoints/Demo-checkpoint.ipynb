{
 "cells": [
  {
   "cell_type": "code",
   "execution_count": 4,
   "metadata": {},
   "outputs": [
    {
     "name": "stdout",
     "output_type": "stream",
     "text": [
      "Current Working Directory: C:\\Users\\eliza\\FINTECH\\HomeWork\\Assignment_2\\python-homework3\\python-homework\\PyBank\n",
      "{'Jan-2010': 867884, 'Feb-2010': 116771, 'Mar-2010': -662642, 'Apr-2010': -391430, 'May-2010': 379920, 'Jun-2010': 212354, 'Jul-2010': 510239, 'Aug-2010': -428211, 'Sep-2010': -821271, 'Oct-2010': 693918, 'Nov-2010': 416278, 'Dec-2010': -974163, 'Jan-2011': 860159, 'Feb-2011': -1115009, 'Mar-2011': 1033048, 'Apr-2011': 95318, 'May-2011': -308093, 'Jun-2011': 99052, 'Jul-2011': -521393, 'Aug-2011': 605450, 'Sep-2011': 231727, 'Oct-2011': -65187, 'Nov-2011': -702716, 'Dec-2011': 177975, 'Jan-2012': -1065544, 'Feb-2012': 1926159, 'Mar-2012': -917805, 'Apr-2012': 898730, 'May-2012': -334262, 'Jun-2012': -246499, 'Jul-2012': -64055, 'Aug-2012': -1529236, 'Sep-2012': 1497596, 'Oct-2012': 304914, 'Nov-2012': -635801, 'Dec-2012': 398319, 'Jan-2013': -183161, 'Feb-2013': -37864, 'Mar-2013': -253689, 'Apr-2013': 403655, 'May-2013': 94168, 'Jun-2013': 306877, 'Jul-2013': -83000, 'Aug-2013': 210462, 'Sep-2013': -2196167, 'Oct-2013': 1465222, 'Nov-2013': -956983, 'Dec-2013': 1838447, 'Jan-2014': -468003, 'Feb-2014': -64602, 'Mar-2014': 206242, 'Apr-2014': -242155, 'May-2014': -449079, 'Jun-2014': 315198, 'Jul-2014': 241099, 'Aug-2014': 111540, 'Sep-2014': 365942, 'Oct-2014': -219310, 'Nov-2014': -368665, 'Dec-2014': 409837, 'Jan-2015': 151210, 'Feb-2015': -110244, 'Mar-2015': -341938, 'Apr-2015': -1212159, 'May-2015': 683246, 'Jun-2015': -70825, 'Jul-2015': 335594, 'Aug-2015': 417334, 'Sep-2015': -272194, 'Oct-2015': -236462, 'Nov-2015': 657432, 'Dec-2015': -211262, 'Jan-2016': -128237, 'Feb-2016': -1750387, 'Mar-2016': 925441, 'Apr-2016': 932089, 'May-2016': -311434, 'Jun-2016': 267252, 'Jul-2016': -1876758, 'Aug-2016': 1733696, 'Sep-2016': 198551, 'Oct-2016': -665765, 'Nov-2016': 693229, 'Dec-2016': -734926, 'Jan-2017': 77242, 'Feb-2017': 532869}\n",
      "a:86\n",
      "len(dictionary): 86\n"
     ]
    }
   ],
   "source": [
    "from pathlib import Path\n",
    "import csv\n",
    "\n",
    "# Check the current directory where the Python program is executing from\n",
    "print(f\"Current Working Directory: {Path.cwd()}\")\n",
    "\n",
    "# Set the input file path \n",
    "csvpath = Path(\"Resources/budget_data.csv\")\n",
    "\n",
    "# Initialize dictionary\n",
    "dictionary = {}\n",
    "\n",
    "# Open the csv file as an object\n",
    "with open(csvpath, \"r\") as csvfile:\n",
    "\n",
    "    csvreader = csv.reader(csvfile, delimiter=\",\")\n",
    "    csv_header = next(csvreader)\n",
    "    # Print the header\n",
    "    #print(csv_header)\n",
    "\n",
    "    a=0\n",
    "    previousPL=0\n",
    "    dictDif={}\n",
    "    # Read each row of data after the header\n",
    "    for row in csvreader:\n",
    "        # Print the row\n",
    "               \n",
    "        month = row[0]\n",
    "        Profit_Loss = int(row[1])\n",
    "        dictionary[month] = Profit_Loss\n",
    "        a=a+1\n",
    "        dif = Profit_Loss-previousPL\n",
    "        dictDif[month]=dif\n",
    "        previousPL= Profit_Loss\n",
    "        \n",
    "print(dictDif)\n",
    "print(f\"a:{a}\")\n",
    "print(f\"len(dictionary): {len(dictionary)}\")\n",
    "        \n",
    "                \n",
    "   \n",
    "\n",
    "        # Set the 'name', 'count', and 'revenue' variables for better\n",
    "        # readability, convert strings to ints for numerical calculations\n",
    "        "
   ]
  },
  {
   "cell_type": "code",
   "execution_count": null,
   "metadata": {},
   "outputs": [],
   "source": []
  }
 ],
 "metadata": {
  "kernelspec": {
   "display_name": "Python 3",
   "language": "python",
   "name": "python3"
  },
  "language_info": {
   "codemirror_mode": {
    "name": "ipython",
    "version": 3
   },
   "file_extension": ".py",
   "mimetype": "text/x-python",
   "name": "python",
   "nbconvert_exporter": "python",
   "pygments_lexer": "ipython3",
   "version": "3.7.6"
  }
 },
 "nbformat": 4,
 "nbformat_minor": 4
}
